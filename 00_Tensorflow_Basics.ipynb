{
  "nbformat": 4,
  "nbformat_minor": 0,
  "metadata": {
    "colab": {
      "name": "00_Tensorflow_Basics.ipynb",
      "provenance": [],
      "collapsed_sections": [],
      "authorship_tag": "ABX9TyNoAlYPoUO34NhVRUEVoyQe",
      "include_colab_link": true
    },
    "kernelspec": {
      "name": "python3",
      "display_name": "Python 3"
    },
    "language_info": {
      "name": "python"
    },
    "accelerator": "GPU"
  },
  "cells": [
    {
      "cell_type": "markdown",
      "metadata": {
        "id": "view-in-github",
        "colab_type": "text"
      },
      "source": [
        "<a href=\"https://colab.research.google.com/github/simplysumanth/Tensorflow-ZTM/blob/main/00_Tensorflow_Basics.ipynb\" target=\"_parent\"><img src=\"https://colab.research.google.com/assets/colab-badge.svg\" alt=\"Open In Colab\"/></a>"
      ]
    },
    {
      "cell_type": "code",
      "metadata": {
        "id": "Qt2kt9jOszsU"
      },
      "source": [
        "import tensorflow as tf"
      ],
      "execution_count": 1,
      "outputs": []
    },
    {
      "cell_type": "code",
      "metadata": {
        "colab": {
          "base_uri": "https://localhost:8080/"
        },
        "id": "0AC95mWUs-kv",
        "outputId": "fb15d8a4-615c-484e-9eab-58e92427ddf7"
      },
      "source": [
        "print(tf.__version__)"
      ],
      "execution_count": 2,
      "outputs": [
        {
          "output_type": "stream",
          "text": [
            "2.5.0\n"
          ],
          "name": "stdout"
        }
      ]
    },
    {
      "cell_type": "markdown",
      "metadata": {
        "id": "3L5STJaxKEaH"
      },
      "source": [
        "### Creating tensors with tf.constant"
      ]
    },
    {
      "cell_type": "code",
      "metadata": {
        "colab": {
          "base_uri": "https://localhost:8080/"
        },
        "id": "-xG-1smxtPSc",
        "outputId": "656c3ee0-ada8-48ae-e671-3af1ccdb6ff7"
      },
      "source": [
        "scalar = tf.constant(9)\n",
        "scalar\n",
        "#scalar.numpy()"
      ],
      "execution_count": 3,
      "outputs": [
        {
          "output_type": "execute_result",
          "data": {
            "text/plain": [
              "<tf.Tensor: shape=(), dtype=int32, numpy=9>"
            ]
          },
          "metadata": {
            "tags": []
          },
          "execution_count": 3
        }
      ]
    },
    {
      "cell_type": "code",
      "metadata": {
        "colab": {
          "base_uri": "https://localhost:8080/"
        },
        "id": "wUDC155fGmhK",
        "outputId": "b5d36496-04fe-4342-f8bc-ffe878be795e"
      },
      "source": [
        "vector = tf.constant([3.,9.])\n",
        "vector.ndim\n",
        "#vector.ndim"
      ],
      "execution_count": 4,
      "outputs": [
        {
          "output_type": "execute_result",
          "data": {
            "text/plain": [
              "1"
            ]
          },
          "metadata": {
            "tags": []
          },
          "execution_count": 4
        }
      ]
    },
    {
      "cell_type": "code",
      "metadata": {
        "colab": {
          "base_uri": "https://localhost:8080/"
        },
        "id": "0QrMjQgoGuOw",
        "outputId": "26d7a8c2-2920-49d9-a6db-dcd2f876d173"
      },
      "source": [
        "matrix = tf.constant([[1.,2.],\n",
        "                      [3.,4.]\n",
        "                      ],dtype=tf.float32)\n",
        "matrix\n",
        "#matrix.ndim"
      ],
      "execution_count": 5,
      "outputs": [
        {
          "output_type": "execute_result",
          "data": {
            "text/plain": [
              "<tf.Tensor: shape=(2, 2), dtype=float32, numpy=\n",
              "array([[1., 2.],\n",
              "       [3., 4.]], dtype=float32)>"
            ]
          },
          "metadata": {
            "tags": []
          },
          "execution_count": 5
        }
      ]
    },
    {
      "cell_type": "code",
      "metadata": {
        "colab": {
          "base_uri": "https://localhost:8080/"
        },
        "id": "zCHSgwzgH42W",
        "outputId": "ed64f7db-4aa4-4641-eaa7-99d7338c826e"
      },
      "source": [
        "\n",
        "matrix = tf.constant([[1,2,3]],dtype=tf.float32)\n",
        "matrix"
      ],
      "execution_count": 6,
      "outputs": [
        {
          "output_type": "execute_result",
          "data": {
            "text/plain": [
              "<tf.Tensor: shape=(1, 3), dtype=float32, numpy=array([[1., 2., 3.]], dtype=float32)>"
            ]
          },
          "metadata": {
            "tags": []
          },
          "execution_count": 6
        }
      ]
    },
    {
      "cell_type": "code",
      "metadata": {
        "colab": {
          "base_uri": "https://localhost:8080/"
        },
        "id": "BuYjp0ysIoxi",
        "outputId": "2a10ace7-4c8e-44d2-bbd5-cc079cc8e44f"
      },
      "source": [
        "tensor = tf.constant([[[1.,2.,3.],\n",
        "                       [1.,2.,3.],\n",
        "                       [1.,2.,3.]],\n",
        "                       ])\n",
        "tensor"
      ],
      "execution_count": 7,
      "outputs": [
        {
          "output_type": "execute_result",
          "data": {
            "text/plain": [
              "<tf.Tensor: shape=(1, 3, 3), dtype=float32, numpy=\n",
              "array([[[1., 2., 3.],\n",
              "        [1., 2., 3.],\n",
              "        [1., 2., 3.]]], dtype=float32)>"
            ]
          },
          "metadata": {
            "tags": []
          },
          "execution_count": 7
        }
      ]
    },
    {
      "cell_type": "code",
      "metadata": {
        "id": "8PBCiDCbLIqk",
        "colab": {
          "base_uri": "https://localhost:8080/"
        },
        "outputId": "06a18b0d-080b-483e-91c8-bde8e2f18307"
      },
      "source": [
        "tensor.numpy()"
      ],
      "execution_count": 8,
      "outputs": [
        {
          "output_type": "execute_result",
          "data": {
            "text/plain": [
              "array([[[1., 2., 3.],\n",
              "        [1., 2., 3.],\n",
              "        [1., 2., 3.]]], dtype=float32)"
            ]
          },
          "metadata": {
            "tags": []
          },
          "execution_count": 8
        }
      ]
    },
    {
      "cell_type": "markdown",
      "metadata": {
        "id": "ZUAN9iBKLI8l"
      },
      "source": [
        "### Create tensors using tf.variable"
      ]
    },
    {
      "cell_type": "code",
      "metadata": {
        "colab": {
          "base_uri": "https://localhost:8080/"
        },
        "id": "CGIdIDO1Lk30",
        "outputId": "5f4e5139-4e7a-4726-b9fc-30a13795e757"
      },
      "source": [
        "changeable_tensor = tf.Variable([3.,5.])\n",
        "unchangeable_tensor = tf.constant(3.)\n",
        "changeable_tensor,unchangeable_tensor"
      ],
      "execution_count": 9,
      "outputs": [
        {
          "output_type": "execute_result",
          "data": {
            "text/plain": [
              "(<tf.Variable 'Variable:0' shape=(2,) dtype=float32, numpy=array([3., 5.], dtype=float32)>,\n",
              " <tf.Tensor: shape=(), dtype=float32, numpy=3.0>)"
            ]
          },
          "metadata": {
            "tags": []
          },
          "execution_count": 9
        }
      ]
    },
    {
      "cell_type": "code",
      "metadata": {
        "colab": {
          "base_uri": "https://localhost:8080/",
          "height": 178
        },
        "id": "3IOuwObFX6M_",
        "outputId": "2cfec329-9905-4bc6-f2fa-5e915dd3aa20"
      },
      "source": [
        "changeable_tensor[0] =7\n",
        "changeable_tensor"
      ],
      "execution_count": 10,
      "outputs": [
        {
          "output_type": "error",
          "ename": "TypeError",
          "evalue": "ignored",
          "traceback": [
            "\u001b[0;31m---------------------------------------------------------------------------\u001b[0m",
            "\u001b[0;31mTypeError\u001b[0m                                 Traceback (most recent call last)",
            "\u001b[0;32m<ipython-input-10-344425be838a>\u001b[0m in \u001b[0;36m<module>\u001b[0;34m()\u001b[0m\n\u001b[0;32m----> 1\u001b[0;31m \u001b[0mchangeable_tensor\u001b[0m\u001b[0;34m[\u001b[0m\u001b[0;36m0\u001b[0m\u001b[0;34m]\u001b[0m \u001b[0;34m=\u001b[0m\u001b[0;36m7\u001b[0m\u001b[0;34m\u001b[0m\u001b[0;34m\u001b[0m\u001b[0m\n\u001b[0m\u001b[1;32m      2\u001b[0m \u001b[0mchangeable_tensor\u001b[0m\u001b[0;34m\u001b[0m\u001b[0;34m\u001b[0m\u001b[0m\n",
            "\u001b[0;31mTypeError\u001b[0m: 'ResourceVariable' object does not support item assignment"
          ]
        }
      ]
    },
    {
      "cell_type": "markdown",
      "metadata": {
        "id": "ttPrbMOpYDNO"
      },
      "source": [
        "This gives an error: As we have to use assign() for assigning stuff to tf.variable()"
      ]
    },
    {
      "cell_type": "code",
      "metadata": {
        "colab": {
          "base_uri": "https://localhost:8080/"
        },
        "id": "mEGdyJXRX9Gc",
        "outputId": "5df2a51f-4ccb-4542-e270-5dff5dc47365"
      },
      "source": [
        "changeable_tensor[0].assign(2)\n",
        "changeable_tensor"
      ],
      "execution_count": 11,
      "outputs": [
        {
          "output_type": "execute_result",
          "data": {
            "text/plain": [
              "<tf.Variable 'Variable:0' shape=(2,) dtype=float32, numpy=array([2., 5.], dtype=float32)>"
            ]
          },
          "metadata": {
            "tags": []
          },
          "execution_count": 11
        }
      ]
    },
    {
      "cell_type": "markdown",
      "metadata": {
        "id": "xOTLpvunxYqE"
      },
      "source": [
        "#### Creating Random Tensors"
      ]
    },
    {
      "cell_type": "code",
      "metadata": {
        "colab": {
          "base_uri": "https://localhost:8080/"
        },
        "id": "D3su6jCYYPxY",
        "outputId": "f1a079dc-9ab3-432b-c273-5cf4fa3de9bb"
      },
      "source": [
        "random_1 = tf.random.Generator.from_seed(42)\n",
        "random_1 = random_1.normal(shape = (3,2))\n",
        "\n",
        "random_2 = tf.random.Generator.from_seed(42)\n",
        "random_2 = random_2.normal(shape = (3,2)) #try (2,3)\n",
        "\n",
        "random_1 , random_2 #as there is same seed, the values are same"
      ],
      "execution_count": 12,
      "outputs": [
        {
          "output_type": "execute_result",
          "data": {
            "text/plain": [
              "(<tf.Tensor: shape=(3, 2), dtype=float32, numpy=\n",
              " array([[-0.7565803 , -0.06854702],\n",
              "        [ 0.07595026, -1.2573844 ],\n",
              "        [-0.23193765, -1.8107855 ]], dtype=float32)>,\n",
              " <tf.Tensor: shape=(3, 2), dtype=float32, numpy=\n",
              " array([[-0.7565803 , -0.06854702],\n",
              "        [ 0.07595026, -1.2573844 ],\n",
              "        [-0.23193765, -1.8107855 ]], dtype=float32)>)"
            ]
          },
          "metadata": {
            "tags": []
          },
          "execution_count": 12
        }
      ]
    },
    {
      "cell_type": "markdown",
      "metadata": {
        "id": "5tCV5xkrydMk"
      },
      "source": [
        "##### Shuffling a tensor"
      ]
    },
    {
      "cell_type": "code",
      "metadata": {
        "colab": {
          "base_uri": "https://localhost:8080/"
        },
        "id": "G6EiR9G5x1mv",
        "outputId": "90dfb649-0073-4d44-d03c-40e4705057bd"
      },
      "source": [
        "not_shuffled = tf.constant([1,2,3])\n",
        "not_shuffled"
      ],
      "execution_count": 13,
      "outputs": [
        {
          "output_type": "execute_result",
          "data": {
            "text/plain": [
              "<tf.Tensor: shape=(3,), dtype=int32, numpy=array([1, 2, 3], dtype=int32)>"
            ]
          },
          "metadata": {
            "tags": []
          },
          "execution_count": 13
        }
      ]
    },
    {
      "cell_type": "code",
      "metadata": {
        "colab": {
          "base_uri": "https://localhost:8080/"
        },
        "id": "spxhPxA1ymDq",
        "outputId": "17668922-03a3-4cd9-dc28-ffc088d4f694"
      },
      "source": [
        "shuffled = tf.random.shuffle(not_shuffled,seed=42)\n",
        "shuffled"
      ],
      "execution_count": 14,
      "outputs": [
        {
          "output_type": "execute_result",
          "data": {
            "text/plain": [
              "<tf.Tensor: shape=(3,), dtype=int32, numpy=array([3, 2, 1], dtype=int32)>"
            ]
          },
          "metadata": {
            "tags": []
          },
          "execution_count": 14
        }
      ]
    },
    {
      "cell_type": "markdown",
      "metadata": {
        "id": "npWD6ohc18wQ"
      },
      "source": [
        "###### Creating tensors using numpy"
      ]
    },
    {
      "cell_type": "code",
      "metadata": {
        "colab": {
          "base_uri": "https://localhost:8080/"
        },
        "id": "QPa2Z2Ahy0CS",
        "outputId": "3e11ad0b-a126-4c29-c6cb-d00ca96ec7a3"
      },
      "source": [
        "import numpy as np\n",
        "numpy_A = np.arange(1,25,dtype=np.float64)\n",
        "\n",
        "t = tf.constant(numpy_A, shape=[2,3,4])\n",
        "t"
      ],
      "execution_count": 15,
      "outputs": [
        {
          "output_type": "execute_result",
          "data": {
            "text/plain": [
              "<tf.Tensor: shape=(2, 3, 4), dtype=float64, numpy=\n",
              "array([[[ 1.,  2.,  3.,  4.],\n",
              "        [ 5.,  6.,  7.,  8.],\n",
              "        [ 9., 10., 11., 12.]],\n",
              "\n",
              "       [[13., 14., 15., 16.],\n",
              "        [17., 18., 19., 20.],\n",
              "        [21., 22., 23., 24.]]])>"
            ]
          },
          "metadata": {
            "tags": []
          },
          "execution_count": 15
        }
      ]
    },
    {
      "cell_type": "code",
      "metadata": {
        "colab": {
          "base_uri": "https://localhost:8080/"
        },
        "id": "HuEwCJvG2CDo",
        "outputId": "30c739ba-4efd-4adf-8f73-68814eaf2cde"
      },
      "source": [
        "##Getting information from tensor\n",
        "rank_4_tensor = tf.zeros([2,3,4,5])\n",
        "rank_4_tensor"
      ],
      "execution_count": 16,
      "outputs": [
        {
          "output_type": "execute_result",
          "data": {
            "text/plain": [
              "<tf.Tensor: shape=(2, 3, 4, 5), dtype=float32, numpy=\n",
              "array([[[[0., 0., 0., 0., 0.],\n",
              "         [0., 0., 0., 0., 0.],\n",
              "         [0., 0., 0., 0., 0.],\n",
              "         [0., 0., 0., 0., 0.]],\n",
              "\n",
              "        [[0., 0., 0., 0., 0.],\n",
              "         [0., 0., 0., 0., 0.],\n",
              "         [0., 0., 0., 0., 0.],\n",
              "         [0., 0., 0., 0., 0.]],\n",
              "\n",
              "        [[0., 0., 0., 0., 0.],\n",
              "         [0., 0., 0., 0., 0.],\n",
              "         [0., 0., 0., 0., 0.],\n",
              "         [0., 0., 0., 0., 0.]]],\n",
              "\n",
              "\n",
              "       [[[0., 0., 0., 0., 0.],\n",
              "         [0., 0., 0., 0., 0.],\n",
              "         [0., 0., 0., 0., 0.],\n",
              "         [0., 0., 0., 0., 0.]],\n",
              "\n",
              "        [[0., 0., 0., 0., 0.],\n",
              "         [0., 0., 0., 0., 0.],\n",
              "         [0., 0., 0., 0., 0.],\n",
              "         [0., 0., 0., 0., 0.]],\n",
              "\n",
              "        [[0., 0., 0., 0., 0.],\n",
              "         [0., 0., 0., 0., 0.],\n",
              "         [0., 0., 0., 0., 0.],\n",
              "         [0., 0., 0., 0., 0.]]]], dtype=float32)>"
            ]
          },
          "metadata": {
            "tags": []
          },
          "execution_count": 16
        }
      ]
    },
    {
      "cell_type": "code",
      "metadata": {
        "colab": {
          "base_uri": "https://localhost:8080/"
        },
        "id": "F5PvBB0h2xrA",
        "outputId": "1bb0f6dd-4564-4f4e-b0b2-f4e6ae55e03f"
      },
      "source": [
        "rank_4_tensor.ndim, rank_4_tensor.shape, tf.shape(rank_4_tensor), tf.size(rank_4_tensor), tf.size(rank_4_tensor).numpy()"
      ],
      "execution_count": 17,
      "outputs": [
        {
          "output_type": "execute_result",
          "data": {
            "text/plain": [
              "(4,\n",
              " TensorShape([2, 3, 4, 5]),\n",
              " <tf.Tensor: shape=(4,), dtype=int32, numpy=array([2, 3, 4, 5], dtype=int32)>,\n",
              " <tf.Tensor: shape=(), dtype=int32, numpy=120>,\n",
              " 120)"
            ]
          },
          "metadata": {
            "tags": []
          },
          "execution_count": 17
        }
      ]
    },
    {
      "cell_type": "markdown",
      "metadata": {
        "id": "XLyxPUsl5TCM"
      },
      "source": [
        "##### tf.function()"
      ]
    },
    {
      "cell_type": "code",
      "metadata": {
        "colab": {
          "base_uri": "https://localhost:8080/"
        },
        "id": "0s-qkpzH3Oq6",
        "outputId": "68cee4d4-a7ca-4d37-9d1e-c540cbbfcfb9"
      },
      "source": [
        "@tf.function()\n",
        "def return_some(a,b):\n",
        "  return tf.argmax([a,b])\n",
        "\n",
        "a = tf.constant([1])\n",
        "b = tf.constant([4])\n",
        "\n",
        "return_some(a,b).numpy()"
      ],
      "execution_count": 18,
      "outputs": [
        {
          "output_type": "execute_result",
          "data": {
            "text/plain": [
              "array([1])"
            ]
          },
          "metadata": {
            "tags": []
          },
          "execution_count": 18
        }
      ]
    },
    {
      "cell_type": "code",
      "metadata": {
        "colab": {
          "base_uri": "https://localhost:8080/"
        },
        "id": "VsEK4i525mV6",
        "outputId": "ba00149e-5c27-47e1-8cf5-fd6210ac295f"
      },
      "source": [
        "#reshape\n",
        "reshaped = tf.reshape(tf.ones(shape=(4,4)),shape = (2,2,2,2))\n",
        "reshaped , reshaped.ndim , reshaped.shape"
      ],
      "execution_count": 19,
      "outputs": [
        {
          "output_type": "execute_result",
          "data": {
            "text/plain": [
              "(<tf.Tensor: shape=(2, 2, 2, 2), dtype=float32, numpy=\n",
              " array([[[[1., 1.],\n",
              "          [1., 1.]],\n",
              " \n",
              "         [[1., 1.],\n",
              "          [1., 1.]]],\n",
              " \n",
              " \n",
              "        [[[1., 1.],\n",
              "          [1., 1.]],\n",
              " \n",
              "         [[1., 1.],\n",
              "          [1., 1.]]]], dtype=float32)>, 4, TensorShape([2, 2, 2, 2]))"
            ]
          },
          "metadata": {
            "tags": []
          },
          "execution_count": 19
        }
      ]
    },
    {
      "cell_type": "code",
      "metadata": {
        "colab": {
          "base_uri": "https://localhost:8080/"
        },
        "id": "iF1bfwUh6Qga",
        "outputId": "80a14bb5-35fa-417d-c8dc-4fc9d4370e0f"
      },
      "source": [
        "##Access GPU\n",
        "print(tf.config.list_physical_devices('GPU'))"
      ],
      "execution_count": 20,
      "outputs": [
        {
          "output_type": "stream",
          "text": [
            "[PhysicalDevice(name='/physical_device:GPU:0', device_type='GPU')]\n"
          ],
          "name": "stdout"
        }
      ]
    },
    {
      "cell_type": "code",
      "metadata": {
        "colab": {
          "base_uri": "https://localhost:8080/"
        },
        "id": "HOKFsn2m6nKJ",
        "outputId": "e32ee57a-18b7-4d7a-f2ce-9130c6276986"
      },
      "source": [
        "!nvidia-smi"
      ],
      "execution_count": 21,
      "outputs": [
        {
          "output_type": "stream",
          "text": [
            "Tue Jul 13 16:57:24 2021       \n",
            "+-----------------------------------------------------------------------------+\n",
            "| NVIDIA-SMI 470.42.01    Driver Version: 460.32.03    CUDA Version: 11.2     |\n",
            "|-------------------------------+----------------------+----------------------+\n",
            "| GPU  Name        Persistence-M| Bus-Id        Disp.A | Volatile Uncorr. ECC |\n",
            "| Fan  Temp  Perf  Pwr:Usage/Cap|         Memory-Usage | GPU-Util  Compute M. |\n",
            "|                               |                      |               MIG M. |\n",
            "|===============================+======================+======================|\n",
            "|   0  Tesla T4            Off  | 00000000:00:04.0 Off |                    0 |\n",
            "| N/A   62C    P0    29W /  70W |    224MiB / 15109MiB |      0%      Default |\n",
            "|                               |                      |                  N/A |\n",
            "+-------------------------------+----------------------+----------------------+\n",
            "                                                                               \n",
            "+-----------------------------------------------------------------------------+\n",
            "| Processes:                                                                  |\n",
            "|  GPU   GI   CI        PID   Type   Process name                  GPU Memory |\n",
            "|        ID   ID                                                   Usage      |\n",
            "|=============================================================================|\n",
            "|  No running processes found                                                 |\n",
            "+-----------------------------------------------------------------------------+\n"
          ],
          "name": "stdout"
        }
      ]
    },
    {
      "cell_type": "markdown",
      "metadata": {
        "id": "HcCZxK61VIv0"
      },
      "source": [
        "## 🛠 Exercises\n",
        "\n",
        "1. Create a vector, scalar, matrix and tensor with values of your choosing using `tf.constant()`.\n",
        "2. Find the shape, rank and size of the tensors you created in 1.\n",
        "3. Create two tensors containing random values between 0 and 1 with shape `[5, 300]`.\n",
        "4. Multiply the two tensors you created in 3 using matrix multiplication.\n",
        "5. Multiply the two tensors you created in 3 using dot product.\n",
        "6. Create a tensor with random values between 0 and 1 with shape `[224, 224, 3]`.\n",
        "7. Find the min and max values of the tensor you created in 6.\n",
        "8. Created a tensor with random values of shape `[1, 224, 224, 3]` then squeeze it to change the shape to `[224, 224, 3]`.\n",
        "9. Create a tensor with shape `[10]` using your own choice of values, then find the index which has the maximum value.\n",
        "10. One-hot encode the tensor you created in 9."
      ]
    },
    {
      "cell_type": "code",
      "metadata": {
        "colab": {
          "base_uri": "https://localhost:8080/"
        },
        "id": "dMoe0k556y5c",
        "outputId": "57bb5a3c-9b51-4c7a-925f-8616455ef91f"
      },
      "source": [
        "#1\n",
        "vector = tf.constant([1,2])\n",
        "scalar = tf.constant([1])\n",
        "matrix = tf.constant([[1,2],[3,4]])\n",
        "tensor = tf.constant([[[1,2,3],[2,3,4]],[[1,2,3],[5,6,7]]])\n",
        "tensor"
      ],
      "execution_count": 22,
      "outputs": [
        {
          "output_type": "execute_result",
          "data": {
            "text/plain": [
              "<tf.Tensor: shape=(2, 2, 3), dtype=int32, numpy=\n",
              "array([[[1, 2, 3],\n",
              "        [2, 3, 4]],\n",
              "\n",
              "       [[1, 2, 3],\n",
              "        [5, 6, 7]]], dtype=int32)>"
            ]
          },
          "metadata": {
            "tags": []
          },
          "execution_count": 22
        }
      ]
    },
    {
      "cell_type": "code",
      "metadata": {
        "colab": {
          "base_uri": "https://localhost:8080/"
        },
        "id": "jbDNoeILzyxA",
        "outputId": "bd88991d-064b-4904-9246-caf07f44cb8e"
      },
      "source": [
        "#2\n",
        "tensor.ndim,len(tensor.shape), tensor.shape"
      ],
      "execution_count": 30,
      "outputs": [
        {
          "output_type": "execute_result",
          "data": {
            "text/plain": [
              "(3, 3, TensorShape([2, 2, 3]))"
            ]
          },
          "metadata": {
            "tags": []
          },
          "execution_count": 30
        }
      ]
    },
    {
      "cell_type": "code",
      "metadata": {
        "colab": {
          "base_uri": "https://localhost:8080/"
        },
        "id": "8TI-fpxS7Pxv",
        "outputId": "713938e8-5f08-43f7-de14-9522550bfa8a"
      },
      "source": [
        "#3\n",
        "tensor_1 = tf.random.uniform(minval=0,maxval=1,shape=(5,300))\n",
        "tensor_1\n",
        "#3 \n",
        "tensor_2 = tf.random.uniform(minval=0,maxval=1,shape=(5,300))\n",
        "tensor_2"
      ],
      "execution_count": 23,
      "outputs": [
        {
          "output_type": "execute_result",
          "data": {
            "text/plain": [
              "<tf.Tensor: shape=(5, 300), dtype=float32, numpy=\n",
              "array([[0.4245448 , 0.9852921 , 0.22806215, ..., 0.99955857, 0.92019296,\n",
              "        0.8754319 ],\n",
              "       [0.92107344, 0.8982934 , 0.02503371, ..., 0.88536036, 0.91565335,\n",
              "        0.29052258],\n",
              "       [0.9666878 , 0.44125116, 0.9793072 , ..., 0.12928712, 0.90663266,\n",
              "        0.7979338 ],\n",
              "       [0.42861843, 0.9294132 , 0.06348825, ..., 0.8441986 , 0.18510687,\n",
              "        0.6784674 ],\n",
              "       [0.4883865 , 0.501001  , 0.9376265 , ..., 0.7131486 , 0.35771775,\n",
              "        0.20938599]], dtype=float32)>"
            ]
          },
          "metadata": {
            "tags": []
          },
          "execution_count": 23
        }
      ]
    },
    {
      "cell_type": "code",
      "metadata": {
        "colab": {
          "base_uri": "https://localhost:8080/"
        },
        "id": "p0z72Lk_7lVv",
        "outputId": "27bd5929-d7cd-4169-d851-19d725346027"
      },
      "source": [
        "#4\n",
        "tf.matmul(tensor_1,tf.transpose(tensor_2))"
      ],
      "execution_count": 24,
      "outputs": [
        {
          "output_type": "execute_result",
          "data": {
            "text/plain": [
              "<tf.Tensor: shape=(5, 5), dtype=float32, numpy=\n",
              "array([[76.176796, 74.40558 , 75.59343 , 76.54194 , 72.60106 ],\n",
              "       [73.83435 , 71.431305, 69.95559 , 72.23826 , 74.000916],\n",
              "       [76.10207 , 73.53424 , 71.993675, 74.605934, 72.3186  ],\n",
              "       [72.14397 , 74.31719 , 71.40324 , 78.00717 , 73.68057 ],\n",
              "       [70.15432 , 69.71037 , 70.52122 , 73.55441 , 71.40969 ]],\n",
              "      dtype=float32)>"
            ]
          },
          "metadata": {
            "tags": []
          },
          "execution_count": 24
        }
      ]
    },
    {
      "cell_type": "code",
      "metadata": {
        "colab": {
          "base_uri": "https://localhost:8080/"
        },
        "id": "ygq7ywd-88cv",
        "outputId": "cac225aa-2207-4749-8ba9-301247232e69"
      },
      "source": [
        "#optional\n",
        "tensor_1 @ tf.transpose(tensor_2)"
      ],
      "execution_count": 25,
      "outputs": [
        {
          "output_type": "execute_result",
          "data": {
            "text/plain": [
              "<tf.Tensor: shape=(5, 5), dtype=float32, numpy=\n",
              "array([[76.176796, 74.40558 , 75.59343 , 76.54194 , 72.60106 ],\n",
              "       [73.83435 , 71.431305, 69.95559 , 72.23826 , 74.000916],\n",
              "       [76.10207 , 73.53424 , 71.993675, 74.605934, 72.3186  ],\n",
              "       [72.14397 , 74.31719 , 71.40324 , 78.00717 , 73.68057 ],\n",
              "       [70.15432 , 69.71037 , 70.52122 , 73.55441 , 71.40969 ]],\n",
              "      dtype=float32)>"
            ]
          },
          "metadata": {
            "tags": []
          },
          "execution_count": 25
        }
      ]
    },
    {
      "cell_type": "code",
      "metadata": {
        "colab": {
          "base_uri": "https://localhost:8080/"
        },
        "id": "atApkyd59HOD",
        "outputId": "9feffab8-3e1e-4328-fdb4-c78ff3df7741"
      },
      "source": [
        "#5\n",
        "tf.tensordot(tensor_1,tf.reshape(tensor_2,shape = (300,5)),axes= 1)\n"
      ],
      "execution_count": 27,
      "outputs": [
        {
          "output_type": "execute_result",
          "data": {
            "text/plain": [
              "<tf.Tensor: shape=(5, 5), dtype=float32, numpy=\n",
              "array([[73.65602 , 76.459625, 74.62671 , 74.370476, 73.22405 ],\n",
              "       [70.30267 , 74.453926, 76.463905, 73.37727 , 75.0737  ],\n",
              "       [73.51926 , 74.47668 , 75.62335 , 69.02122 , 69.59264 ],\n",
              "       [72.141106, 75.83377 , 78.76407 , 73.42118 , 72.769936],\n",
              "       [71.28571 , 71.8942  , 75.47025 , 72.867165, 66.61007 ]],\n",
              "      dtype=float32)>"
            ]
          },
          "metadata": {
            "tags": []
          },
          "execution_count": 27
        }
      ]
    },
    {
      "cell_type": "code",
      "metadata": {
        "id": "hjC_otwY91xo"
      },
      "source": [
        "#6\n",
        "six = tf.random.uniform(minval=0,maxval=1, shape=(224, 224, 3))"
      ],
      "execution_count": 33,
      "outputs": []
    },
    {
      "cell_type": "code",
      "metadata": {
        "colab": {
          "base_uri": "https://localhost:8080/"
        },
        "id": "ym_bURUd0Q8i",
        "outputId": "7d39c91d-fdf1-4bcc-d2f3-0e3d6591b141"
      },
      "source": [
        "#7\n",
        "tf.reduce_min(six),tf.reduce_max(six)"
      ],
      "execution_count": 36,
      "outputs": [
        {
          "output_type": "execute_result",
          "data": {
            "text/plain": [
              "(<tf.Tensor: shape=(), dtype=float32, numpy=2.3841858e-07>,\n",
              " <tf.Tensor: shape=(), dtype=float32, numpy=0.99999285>)"
            ]
          },
          "metadata": {
            "tags": []
          },
          "execution_count": 36
        }
      ]
    },
    {
      "cell_type": "code",
      "metadata": {
        "colab": {
          "base_uri": "https://localhost:8080/"
        },
        "id": "8jZU5Cs20gAQ",
        "outputId": "e0d681d1-a056-4739-e4c8-e40f78d25f00"
      },
      "source": [
        "#8\n",
        "eig= tf.random.uniform(shape=(1, 224, 224, 3))\n",
        "print(eig.shape)\n",
        "eig = tf.squeeze(eig)\n",
        "print(eig.shape)\n",
        "\n",
        "#optional -> squeeze it to single dim\n",
        "re = tf.reshape(eig, shape = (-1))\n",
        "re.shape\n"
      ],
      "execution_count": 57,
      "outputs": [
        {
          "output_type": "stream",
          "text": [
            "(1, 224, 224, 3)\n",
            "(224, 224, 3)\n"
          ],
          "name": "stdout"
        },
        {
          "output_type": "execute_result",
          "data": {
            "text/plain": [
              "TensorShape([150528])"
            ]
          },
          "metadata": {
            "tags": []
          },
          "execution_count": 57
        }
      ]
    },
    {
      "cell_type": "code",
      "metadata": {
        "colab": {
          "base_uri": "https://localhost:8080/"
        },
        "id": "m__T31Jf1CAh",
        "outputId": "f51d7c3e-d099-4cfa-e962-fdb58fbc9433"
      },
      "source": [
        "#9\n",
        "nine = tf.random.normal(shape=[10])\n",
        "print(nine)\n",
        "tf.argmax(nine).numpy()"
      ],
      "execution_count": 48,
      "outputs": [
        {
          "output_type": "stream",
          "text": [
            "tf.Tensor(\n",
            "[ 0.6557662  -0.83798057 -1.112298   -0.02573727  1.1823075   1.6463572\n",
            " -0.26520288 -0.3747401   0.6220301  -1.3128812 ], shape=(10,), dtype=float32)\n"
          ],
          "name": "stdout"
        },
        {
          "output_type": "execute_result",
          "data": {
            "text/plain": [
              "5"
            ]
          },
          "metadata": {
            "tags": []
          },
          "execution_count": 48
        }
      ]
    },
    {
      "cell_type": "code",
      "metadata": {
        "colab": {
          "base_uri": "https://localhost:8080/"
        },
        "id": "WBA2I2ac1wJc",
        "outputId": "59e13d15-6f94-4716-954f-eaf603c68d64"
      },
      "source": [
        "#10\n",
        "ten = tf.one_hot(nine.numpy(),depth = 10)\n",
        "ten"
      ],
      "execution_count": 52,
      "outputs": [
        {
          "output_type": "execute_result",
          "data": {
            "text/plain": [
              "<tf.Tensor: shape=(10, 10), dtype=float32, numpy=\n",
              "array([[1., 0., 0., 0., 0., 0., 0., 0., 0., 0.],\n",
              "       [1., 0., 0., 0., 0., 0., 0., 0., 0., 0.],\n",
              "       [0., 0., 0., 0., 0., 0., 0., 0., 0., 0.],\n",
              "       [1., 0., 0., 0., 0., 0., 0., 0., 0., 0.],\n",
              "       [0., 1., 0., 0., 0., 0., 0., 0., 0., 0.],\n",
              "       [0., 1., 0., 0., 0., 0., 0., 0., 0., 0.],\n",
              "       [1., 0., 0., 0., 0., 0., 0., 0., 0., 0.],\n",
              "       [1., 0., 0., 0., 0., 0., 0., 0., 0., 0.],\n",
              "       [1., 0., 0., 0., 0., 0., 0., 0., 0., 0.],\n",
              "       [0., 0., 0., 0., 0., 0., 0., 0., 0., 0.]], dtype=float32)>"
            ]
          },
          "metadata": {
            "tags": []
          },
          "execution_count": 52
        }
      ]
    },
    {
      "cell_type": "code",
      "metadata": {
        "id": "UEuA0wj12Qo_"
      },
      "source": [
        ""
      ],
      "execution_count": null,
      "outputs": []
    }
  ]
}